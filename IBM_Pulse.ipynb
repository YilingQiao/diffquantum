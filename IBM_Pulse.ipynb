{
 "cells": [
  {
   "cell_type": "code",
   "execution_count": 1,
   "id": "1844def4",
   "metadata": {},
   "outputs": [],
   "source": [
    "import qutip as qp\n",
    "import numpy as np\n",
    "import matplotlib.pyplot as plt\n",
    "import torch\n",
    "import scipy \n",
    "from scipy.special import legendre\n",
    "from scipy.stats import unitary_group"
   ]
  },
  {
   "cell_type": "code",
   "execution_count": 76,
   "id": "179a949d",
   "metadata": {},
   "outputs": [],
   "source": [
    "class QubitControl(object):\n",
    "    \"\"\"A class for simulating single-qubit control on quantum hardware.\n",
    "    The finest time-resolution dt will be rescaled to 1 in the numerical simulation.\n",
    "    Parametrization for pulses: Legendre or NN.\n",
    "    \n",
    "    The derivatives are computed by our method.\n",
    "    Args:\n",
    "        n_basis: number of Fourier basis.\n",
    "    \"\"\"\n",
    "    def __init__(self, dt=0.22, eps=32.901, Amax=0.955, freq=2*np.pi*5.236, duration=96,\n",
    "                 n_basis=5, basis='Legendre', n_epoch=200, lr=1e-2, \n",
    "                 is_sample_discrete=False, is_noisy=False):\n",
    "        self.dt = dt\n",
    "        self.raw_eps = eps\n",
    "        self.raw_Amax = Amax\n",
    "        self.raw_freq = freq\n",
    "        self.duration = duration\n",
    "        \n",
    "        self.eps = eps * dt\n",
    "        self.Amax = Amax * dt\n",
    "        self.w = freq * dt\n",
    "        \n",
    "        self.n_basis = n_basis\n",
    "        self.log_dir = \"./logs/\"\n",
    "        self.log_name = basis\n",
    "        self.basis = basis\n",
    "        self.n_epoch = n_epoch\n",
    "        self.lr = lr\n",
    "        self.is_sample_discrete = is_sample_discrete\n",
    "        self.is_noisy = is_noisy\n",
    "\n",
    "        if basis == 'Legendre':\n",
    "            self.legendre_ps = [legendre(j) for j in range(self.n_basis)]\n",
    "        \n",
    "        \n",
    "        \n",
    "    def generate_f(self, vv):\n",
    "        \"\"\"Generate the function f(t)\n",
    "        Args:\n",
    "            vv: parameters for the ansatz\n",
    "        Returns:\n",
    "            _f: function f(t).\n",
    "        \"\"\"\n",
    "        \n",
    "        def _f(t, args):\n",
    "            # t ranges from [0, duration]\n",
    "            u = 0\n",
    "            for j in range(self.n_basis):\n",
    "                u += vv[j] * legendre(j)(2 * t / self.duration - 1)\n",
    "            \n",
    "            return 2 * scipy.special.expit(u) - 1\n",
    "\n",
    "        return _f\n",
    "    \n",
    "    def full_pulse(self, vv):\n",
    "        \"\"\"Generate the full driving pulse for H1 = X\n",
    "        Args:\n",
    "            vv: parameters for the ansatz\n",
    "        Returns:\n",
    "            _D: driving pulse D(t)\n",
    "        \"\"\"\n",
    "        \n",
    "        def _D(t, args):\n",
    "            # t ranges from [0, duration]\n",
    "            u = 0\n",
    "            for j in range(self.n_basis):\n",
    "                u += vv[j] * legendre(j)(2 * t / self.duration - 1)\n",
    "            \n",
    "            return np.cos(self.w * t) * (2 * scipy.special.expit(u) - 1)\n",
    "\n",
    "        return _D\n",
    "    \n",
    "    \n",
    "    def get_integrand(self, M, initial_state, s):\n",
    "        \n",
    "        integrand = np.zeros(self.vv.shape)\n",
    "        \n",
    "        # compute dDdv\n",
    "        #param = torch.clone(self.vv)\n",
    "        #param.requires_grad = True\n",
    "        sgm = torch.nn.Sigmoid()\n",
    "        legendre_ps = [self.vv[j] * legendre(j)(2 * s / self.duration - 1) for j in range(self.n_basis)]\n",
    "        Ds = np.cos(self.w * s) * (2 * sgm(sum(legendre_ps)) - 1)\n",
    "        Ds.backward()\n",
    "        dDdv = self.vv.grad.detach().numpy()\n",
    "\n",
    "        \n",
    "        # compute ps = ps_m - ps_p\n",
    "        H0 = np.array(\n",
    "            [[0, 0], \n",
    "            [0, self.eps]])\n",
    "        H0 = qp.Qobj(H0)\n",
    "        \n",
    "        X = np.array(\n",
    "            [[0, 1], \n",
    "            [1, 0]])\n",
    "        X = qp.Qobj(X)\n",
    "        H = [H0]\n",
    "        H.append([X, self.full_pulse(self.vv.detach().numpy())])\n",
    "        \n",
    "        t0s = np.linspace(0, s, 10)\n",
    "        result = qp.mesolve(H, initial_state, t0s)\n",
    "        phi = result.states[-1]\n",
    "        \n",
    "        r = 1 / 2\n",
    "        gate_p = (qp.qeye(2) + r * 1.j * X) / np.sqrt(1. + r**2)\n",
    "        gate_m = (qp.qeye(2) - r * 1.j * X) / np.sqrt(1. + r**2)\n",
    "            \n",
    "        ts1 = np.linspace(s, self.duration, 10)\n",
    "        result = qp.mesolve(H, gate_p * phi, ts1)\n",
    "        ket_p = result.states[-1]\n",
    "        ps_p = M.matrix_element(ket_p, ket_p)\n",
    "        if self.is_noisy:\n",
    "            ps_p += np.random.normal(scale=np.abs(ps_p.real) / 5)\n",
    "            \n",
    "        result = qp.mesolve(H, gate_m * phi, ts1)\n",
    "        ket_m = result.states[-1]\n",
    "        ps_m = M.matrix_element(ket_m, ket_m)\n",
    "        if self.is_noisy:\n",
    "            ps_m += np.random.normal(scale=np.abs(ps_m.real) / 5)\n",
    "\n",
    "        ps = ((1 + r**2) / 2 / r * (ps_m - ps_p)).real\n",
    "        \n",
    "        return ps * dDdv\n",
    "        \n",
    "\n",
    "\n",
    "    def compute_energy_grad_MC(self, M, initial_state, num_sample):\n",
    "        \"\"\"Compute the gradient of engergy function <psi(T)|M|psi(T)>, T = duration\n",
    "        Args:\n",
    "            vv0: current parameters\n",
    "            M: A Hermitian matrix.\n",
    "            initial_state: initial_state.\n",
    "            num_sample = # of MC samples in [0,T]\n",
    "        Returns:\n",
    "            grad_coeff: (estimated) gradients of the parameters vv.\n",
    "        \"\"\"\n",
    "        if self.is_sample_discrete == False:\n",
    "            sample_time = np.random.uniform(0, self.duration, size=num_sample)\n",
    "        else: \n",
    "            sample_time = 1 + np.random.randint(0, self.duration-1, size=num_sample)\n",
    "\n",
    "        grad = np.zeros(self.n_basis)\n",
    "        for s in sample_time: \n",
    "            grad += self.get_integrand(M, initial_state, s)\n",
    "        \n",
    "        return torch.from_numpy(self.duration * grad / num_sample)\n",
    "    \n",
    "    def compute_energy(self, M, initial_state,):\n",
    "        H0 = np.array(\n",
    "            [[0, 0], \n",
    "            [0, self.eps]])\n",
    "        H0 = qp.Qobj(H0)\n",
    "        \n",
    "        X = np.array(\n",
    "            [[0, 1], \n",
    "            [1, 0]])\n",
    "        X = qp.Qobj(X)\n",
    "        H = [H0]\n",
    "        H.append([X, self.full_pulse(self.vv.detach().numpy())])\n",
    "        \n",
    "        tarray = np.linspace(0, self.duration, 10)\n",
    "        result = qp.mesolve(H, initial_state, tarray)\n",
    "        psi_T = result.states[-1]\n",
    "        \n",
    "        return np.real(M.matrix_element(psi_T, psi_T))\n",
    "    \n",
    "    \n",
    "    def save_plot(self, plot_name):\n",
    "        return\n",
    "        ts = np.linspace(0, 1, self.n_step) \n",
    "        fs = [self.generate_u(i, self.spectral_coeff.detach().numpy()) for i in range(self.n_Hs)]\n",
    "        np_us = np.array([[f(x, None) for f in fs] for x in ts])\n",
    "        plt.clf()\n",
    "        for j in range(len(fs)):\n",
    "            plt.plot(np_us[:, j], label='{} u_{}'.format(self.log_name,  j))\n",
    "\n",
    "        plt.legend(loc=\"upper right\")\n",
    "        plt.savefig(\"{}{}_{}.png\".format(self.log_dir, self.log_name, plot_name))\n",
    "\n",
    "        \n",
    "        \n",
    "    def train_energy(self, M, initial_state, vv0, num_sample):\n",
    "        \"\"\"Train the sepctral coefficients to minimize energy minimization.\n",
    "        Args:\n",
    "            M: A Hermitian matrix.\n",
    "            initial_state: initial_state.\n",
    "            vv0: initial guess of the parameters\n",
    "        Returns:\n",
    "            vv_final: optimized parameters\n",
    "        \"\"\"\n",
    "        if len(vv0) != self.n_basis:\n",
    "            print(\"The length of initial guess must be the same as n_basis!\")\n",
    "        \n",
    "        self.vv = torch.tensor(vv0, requires_grad=True)\n",
    "        \n",
    "        w_l2 = 0\n",
    "        lr = self.lr\n",
    "        optimizer = torch.optim.Adam([self.vv], lr=lr)\n",
    "\n",
    "        self.losses_energy = []\n",
    "        for epoch in range(1, self.n_epoch + 1):\n",
    "            if epoch % 20 == 0:\n",
    "                self.save_plot(epoch)\n",
    "            \n",
    "            loss_energy = self.compute_energy(M, initial_state)\n",
    "            if self.is_noisy:\n",
    "                loss_energy += np.random.normal(scale=np.abs(loss_energy) / 5)\n",
    "            loss_l2 = ((self.vv**2).mean(0) * torch.tensor(\n",
    "                [i**2 for i in range(self.n_basis)])).mean() * w_l2\n",
    "            loss = loss_energy + loss_l2\n",
    "            optimizer.zero_grad()\n",
    "            loss_l2.backward()\n",
    "            grad_vv = self.compute_energy_grad_MC(M, initial_state, num_sample)\n",
    "            self.vv.grad = grad_vv\n",
    "            optimizer.step()\n",
    "\n",
    "            print(\"epoch: {:04d}, loss: {:.4f}, loss_energy: {:.4f}\".format(\n",
    "                epoch, \n",
    "                loss, \n",
    "                loss_energy\n",
    "            ))\n",
    "            self.losses_energy.append(loss_energy.real)\n",
    "            #self.final_state = final_state\n",
    "            \n",
    "            \n",
    "        return self.vv\n",
    "    \n",
    "    \n",
    "    def model_qubit(self, vv0, num_sample, method):\n",
    "        \n",
    "        I = np.array(\n",
    "            [[1, 0], \n",
    "            [0, 1]])\n",
    "        X = np.array(\n",
    "            [[0, 1], \n",
    "            [1, 0]])\n",
    "        Z = np.array(\n",
    "            [[1, 0], \n",
    "            [0, -1]])\n",
    "        \n",
    "        M = qp.Qobj(0.5 * (I + Z))\n",
    "        psi0 = qp.basis(2, 0)\n",
    "        \n",
    "        if method == 'plain':\n",
    "            self.train_energy(M, psi0, vv0, num_sample)\n",
    "        elif method == 'rwa':\n",
    "            self.train_energy(M, psi0, vv0, num_sample)\n",
    "        else:\n",
    "            print(\"Method must be plain or rwa.\")\n",
    "\n",
    "        return\n",
    "    \n",
    "    def plot_integrand(self, i, vv0):\n",
    "        if i > self.n_basis:\n",
    "            print(\"Index i is no more than n_basis.\")\n",
    "        \n",
    "        self.vv = torch.tensor(vv0, requires_grad=True)\n",
    "        \n",
    "        I = np.array(\n",
    "            [[1, 0], \n",
    "            [0, 1]])\n",
    "        X = np.array(\n",
    "            [[0, 1], \n",
    "            [1, 0]])\n",
    "        Z = np.array(\n",
    "            [[1, 0], \n",
    "            [0, -1]])\n",
    "        \n",
    "        M = qp.Qobj(0.5 * (I + Z))\n",
    "        psi0 = qp.basis(2, 0)\n",
    "        integrand = np.zeros(self.duration-2);\n",
    "        \n",
    "        for k in range(self.duration-2):\n",
    "            s = k+1\n",
    "            g = self.get_integrand(M, psi0, s)\n",
    "            integrand[k] = g[i-1]\n",
    "            display(k)\n",
    "        \n",
    "        return integrand\n",
    "    "
   ]
  },
  {
   "cell_type": "code",
   "execution_count": 47,
   "id": "e12831bc",
   "metadata": {
    "scrolled": true
   },
   "outputs": [
    {
     "name": "stdout",
     "output_type": "stream",
     "text": [
      "epoch: 0001, loss: 0.3998, loss_energy: 0.3998\n",
      "epoch: 0002, loss: 0.2951, loss_energy: 0.2951\n",
      "epoch: 0003, loss: 0.2225, loss_energy: 0.2225\n",
      "epoch: 0004, loss: 0.1666, loss_energy: 0.1666\n",
      "epoch: 0005, loss: 0.1182, loss_energy: 0.1182\n",
      "epoch: 0006, loss: 0.0749, loss_energy: 0.0749\n",
      "epoch: 0007, loss: 0.0371, loss_energy: 0.0371\n",
      "epoch: 0008, loss: 0.0113, loss_energy: 0.0113\n",
      "epoch: 0009, loss: 0.0009, loss_energy: 0.0009\n",
      "epoch: 0010, loss: 0.0017, loss_energy: 0.0017\n",
      "epoch: 0011, loss: 0.0105, loss_energy: 0.0105\n",
      "epoch: 0012, loss: 0.0215, loss_energy: 0.0215\n",
      "epoch: 0013, loss: 0.0347, loss_energy: 0.0347\n",
      "epoch: 0014, loss: 0.0453, loss_energy: 0.0453\n",
      "epoch: 0015, loss: 0.0485, loss_energy: 0.0485\n",
      "epoch: 0016, loss: 0.0446, loss_energy: 0.0446\n",
      "epoch: 0017, loss: 0.0367, loss_energy: 0.0367\n",
      "epoch: 0018, loss: 0.0287, loss_energy: 0.0287\n",
      "epoch: 0019, loss: 0.0216, loss_energy: 0.0216\n",
      "epoch: 0020, loss: 0.0159, loss_energy: 0.0159\n",
      "epoch: 0021, loss: 0.0114, loss_energy: 0.0114\n",
      "epoch: 0022, loss: 0.0077, loss_energy: 0.0077\n",
      "epoch: 0023, loss: 0.0046, loss_energy: 0.0046\n",
      "epoch: 0024, loss: 0.0024, loss_energy: 0.0024\n",
      "epoch: 0025, loss: 0.0008, loss_energy: 0.0008\n",
      "epoch: 0026, loss: 0.0001, loss_energy: 0.0001\n",
      "epoch: 0027, loss: 0.0002, loss_energy: 0.0002\n",
      "epoch: 0028, loss: 0.0009, loss_energy: 0.0009\n",
      "epoch: 0029, loss: 0.0018, loss_energy: 0.0018\n",
      "epoch: 0030, loss: 0.0028, loss_energy: 0.0028\n",
      "epoch: 0031, loss: 0.0038, loss_energy: 0.0038\n",
      "epoch: 0032, loss: 0.0048, loss_energy: 0.0048\n",
      "epoch: 0033, loss: 0.0057, loss_energy: 0.0057\n",
      "epoch: 0034, loss: 0.0055, loss_energy: 0.0055\n",
      "epoch: 0035, loss: 0.0053, loss_energy: 0.0053\n",
      "epoch: 0036, loss: 0.0043, loss_energy: 0.0043\n",
      "epoch: 0037, loss: 0.0031, loss_energy: 0.0031\n",
      "epoch: 0038, loss: 0.0021, loss_energy: 0.0021\n",
      "epoch: 0039, loss: 0.0012, loss_energy: 0.0012\n",
      "epoch: 0040, loss: 0.0005, loss_energy: 0.0005\n",
      "epoch: 0041, loss: 0.0002, loss_energy: 0.0002\n",
      "epoch: 0042, loss: 0.0001, loss_energy: 0.0001\n",
      "epoch: 0043, loss: 0.0002, loss_energy: 0.0002\n",
      "epoch: 0044, loss: 0.0004, loss_energy: 0.0004\n",
      "epoch: 0045, loss: 0.0007, loss_energy: 0.0007\n",
      "epoch: 0046, loss: 0.0010, loss_energy: 0.0010\n",
      "epoch: 0047, loss: 0.0012, loss_energy: 0.0012\n",
      "epoch: 0048, loss: 0.0014, loss_energy: 0.0014\n",
      "epoch: 0049, loss: 0.0012, loss_energy: 0.0012\n",
      "epoch: 0050, loss: 0.0009, loss_energy: 0.0009\n"
     ]
    }
   ],
   "source": [
    "if __name__ == '__main__':\n",
    "    model = QubitControl(basis='Legendre', n_basis=5 , dt=0.22, duration=96, n_epoch=50, lr = 5e-3)\n",
    "    vv0 = np.random.rand(model.n_basis)\n",
    "    num_sample = 1\n",
    "    g = model.model_qubit(vv0, num_sample, 'plain')\n",
    "    loss0 = model.losses_energy"
   ]
  },
  {
   "cell_type": "code",
   "execution_count": 68,
   "id": "7cbbad17",
   "metadata": {},
   "outputs": [
    {
     "data": {
      "text/plain": [
       "array([0.73765115, 0.30880234, 0.51121464, 0.12164895, 0.20280159])"
      ]
     },
     "execution_count": 68,
     "metadata": {},
     "output_type": "execute_result"
    }
   ],
   "source": [
    "vv0"
   ]
  },
  {
   "cell_type": "code",
   "execution_count": 77,
   "id": "7db88db0",
   "metadata": {},
   "outputs": [
    {
     "data": {
      "text/plain": [
       "0"
      ]
     },
     "metadata": {},
     "output_type": "display_data"
    },
    {
     "data": {
      "text/plain": [
       "1"
      ]
     },
     "metadata": {},
     "output_type": "display_data"
    },
    {
     "data": {
      "text/plain": [
       "2"
      ]
     },
     "metadata": {},
     "output_type": "display_data"
    },
    {
     "data": {
      "text/plain": [
       "3"
      ]
     },
     "metadata": {},
     "output_type": "display_data"
    },
    {
     "data": {
      "text/plain": [
       "4"
      ]
     },
     "metadata": {},
     "output_type": "display_data"
    },
    {
     "data": {
      "text/plain": [
       "5"
      ]
     },
     "metadata": {},
     "output_type": "display_data"
    },
    {
     "data": {
      "text/plain": [
       "6"
      ]
     },
     "metadata": {},
     "output_type": "display_data"
    },
    {
     "data": {
      "text/plain": [
       "7"
      ]
     },
     "metadata": {},
     "output_type": "display_data"
    },
    {
     "data": {
      "text/plain": [
       "8"
      ]
     },
     "metadata": {},
     "output_type": "display_data"
    },
    {
     "data": {
      "text/plain": [
       "9"
      ]
     },
     "metadata": {},
     "output_type": "display_data"
    },
    {
     "data": {
      "text/plain": [
       "10"
      ]
     },
     "metadata": {},
     "output_type": "display_data"
    },
    {
     "data": {
      "text/plain": [
       "11"
      ]
     },
     "metadata": {},
     "output_type": "display_data"
    },
    {
     "data": {
      "text/plain": [
       "12"
      ]
     },
     "metadata": {},
     "output_type": "display_data"
    },
    {
     "data": {
      "text/plain": [
       "13"
      ]
     },
     "metadata": {},
     "output_type": "display_data"
    },
    {
     "data": {
      "text/plain": [
       "14"
      ]
     },
     "metadata": {},
     "output_type": "display_data"
    },
    {
     "data": {
      "text/plain": [
       "15"
      ]
     },
     "metadata": {},
     "output_type": "display_data"
    },
    {
     "data": {
      "text/plain": [
       "16"
      ]
     },
     "metadata": {},
     "output_type": "display_data"
    },
    {
     "data": {
      "text/plain": [
       "17"
      ]
     },
     "metadata": {},
     "output_type": "display_data"
    },
    {
     "data": {
      "text/plain": [
       "18"
      ]
     },
     "metadata": {},
     "output_type": "display_data"
    },
    {
     "data": {
      "text/plain": [
       "19"
      ]
     },
     "metadata": {},
     "output_type": "display_data"
    },
    {
     "data": {
      "text/plain": [
       "20"
      ]
     },
     "metadata": {},
     "output_type": "display_data"
    },
    {
     "data": {
      "text/plain": [
       "21"
      ]
     },
     "metadata": {},
     "output_type": "display_data"
    },
    {
     "data": {
      "text/plain": [
       "22"
      ]
     },
     "metadata": {},
     "output_type": "display_data"
    },
    {
     "data": {
      "text/plain": [
       "23"
      ]
     },
     "metadata": {},
     "output_type": "display_data"
    },
    {
     "data": {
      "text/plain": [
       "24"
      ]
     },
     "metadata": {},
     "output_type": "display_data"
    },
    {
     "data": {
      "text/plain": [
       "25"
      ]
     },
     "metadata": {},
     "output_type": "display_data"
    },
    {
     "data": {
      "text/plain": [
       "26"
      ]
     },
     "metadata": {},
     "output_type": "display_data"
    },
    {
     "data": {
      "text/plain": [
       "27"
      ]
     },
     "metadata": {},
     "output_type": "display_data"
    },
    {
     "data": {
      "text/plain": [
       "28"
      ]
     },
     "metadata": {},
     "output_type": "display_data"
    },
    {
     "data": {
      "text/plain": [
       "29"
      ]
     },
     "metadata": {},
     "output_type": "display_data"
    },
    {
     "data": {
      "text/plain": [
       "30"
      ]
     },
     "metadata": {},
     "output_type": "display_data"
    },
    {
     "data": {
      "text/plain": [
       "31"
      ]
     },
     "metadata": {},
     "output_type": "display_data"
    },
    {
     "data": {
      "text/plain": [
       "32"
      ]
     },
     "metadata": {},
     "output_type": "display_data"
    },
    {
     "data": {
      "text/plain": [
       "33"
      ]
     },
     "metadata": {},
     "output_type": "display_data"
    },
    {
     "data": {
      "text/plain": [
       "34"
      ]
     },
     "metadata": {},
     "output_type": "display_data"
    },
    {
     "data": {
      "text/plain": [
       "35"
      ]
     },
     "metadata": {},
     "output_type": "display_data"
    },
    {
     "data": {
      "text/plain": [
       "36"
      ]
     },
     "metadata": {},
     "output_type": "display_data"
    },
    {
     "data": {
      "text/plain": [
       "37"
      ]
     },
     "metadata": {},
     "output_type": "display_data"
    },
    {
     "data": {
      "text/plain": [
       "38"
      ]
     },
     "metadata": {},
     "output_type": "display_data"
    },
    {
     "data": {
      "text/plain": [
       "39"
      ]
     },
     "metadata": {},
     "output_type": "display_data"
    },
    {
     "data": {
      "text/plain": [
       "40"
      ]
     },
     "metadata": {},
     "output_type": "display_data"
    },
    {
     "data": {
      "text/plain": [
       "41"
      ]
     },
     "metadata": {},
     "output_type": "display_data"
    },
    {
     "data": {
      "text/plain": [
       "42"
      ]
     },
     "metadata": {},
     "output_type": "display_data"
    },
    {
     "data": {
      "text/plain": [
       "43"
      ]
     },
     "metadata": {},
     "output_type": "display_data"
    },
    {
     "data": {
      "text/plain": [
       "44"
      ]
     },
     "metadata": {},
     "output_type": "display_data"
    },
    {
     "data": {
      "text/plain": [
       "45"
      ]
     },
     "metadata": {},
     "output_type": "display_data"
    },
    {
     "data": {
      "text/plain": [
       "46"
      ]
     },
     "metadata": {},
     "output_type": "display_data"
    },
    {
     "data": {
      "text/plain": [
       "47"
      ]
     },
     "metadata": {},
     "output_type": "display_data"
    }
   ],
   "source": [
    "if __name__ == '__main__':\n",
    "    model = QubitControl(basis='Legendre', n_basis=5 , dt=0.22, duration=50, n_epoch=50, lr = 5e-3)\n",
    "    integrand = model.plot_integrand(1, vv0)"
   ]
  },
  {
   "cell_type": "code",
   "execution_count": 78,
   "id": "135f95d9",
   "metadata": {},
   "outputs": [
    {
     "data": {
      "text/plain": [
       "[<matplotlib.lines.Line2D at 0x7fe8937d17f0>]"
      ]
     },
     "execution_count": 78,
     "metadata": {},
     "output_type": "execute_result"
    },
    {
     "data": {
      "image/png": "[encoded data removed]",
      "text/plain": [
       "<Figure size 432x288 with 1 Axes>"
      ]
     },
     "metadata": {
      "needs_background": "light"
     },
     "output_type": "display_data"
    }
   ],
   "source": [
    "plt.plot(integrand)"
   ]
  },
  {
   "cell_type": "code",
   "execution_count": 79,
   "id": "ede49e97",
   "metadata": {},
   "outputs": [
    {
     "name": "stdout",
     "output_type": "stream",
     "text": [
      "epoch: 0001, loss: 0.5157, loss_energy: 0.5157\n",
      "epoch: 0002, loss: 0.4666, loss_energy: 0.4666\n",
      "epoch: 0003, loss: 0.4190, loss_energy: 0.4190\n",
      "epoch: 0004, loss: 0.3755, loss_energy: 0.3755\n",
      "epoch: 0005, loss: 0.3311, loss_energy: 0.3311\n",
      "epoch: 0006, loss: 0.2871, loss_energy: 0.2871\n",
      "epoch: 0007, loss: 0.2457, loss_energy: 0.2457\n",
      "epoch: 0008, loss: 0.2047, loss_energy: 0.2047\n",
      "epoch: 0009, loss: 0.1664, loss_energy: 0.1664\n",
      "epoch: 0010, loss: 0.1310, loss_energy: 0.1310\n",
      "epoch: 0011, loss: 0.0993, loss_energy: 0.0993\n",
      "epoch: 0012, loss: 0.0720, loss_energy: 0.0720\n",
      "epoch: 0013, loss: 0.0488, loss_energy: 0.0488\n",
      "epoch: 0014, loss: 0.0304, loss_energy: 0.0304\n",
      "epoch: 0015, loss: 0.0165, loss_energy: 0.0165\n",
      "epoch: 0016, loss: 0.0073, loss_energy: 0.0073\n",
      "epoch: 0017, loss: 0.0020, loss_energy: 0.0020\n",
      "epoch: 0018, loss: 0.0001, loss_energy: 0.0001\n",
      "epoch: 0019, loss: 0.0008, loss_energy: 0.0008\n",
      "epoch: 0020, loss: 0.0035, loss_energy: 0.0035\n",
      "epoch: 0021, loss: 0.0066, loss_energy: 0.0066\n",
      "epoch: 0022, loss: 0.0101, loss_energy: 0.0101\n",
      "epoch: 0023, loss: 0.0137, loss_energy: 0.0137\n",
      "epoch: 0024, loss: 0.0170, loss_energy: 0.0170\n",
      "epoch: 0025, loss: 0.0194, loss_energy: 0.0194\n",
      "epoch: 0026, loss: 0.0211, loss_energy: 0.0211\n",
      "epoch: 0027, loss: 0.0210, loss_energy: 0.0210\n",
      "epoch: 0028, loss: 0.0202, loss_energy: 0.0202\n",
      "epoch: 0029, loss: 0.0178, loss_energy: 0.0178\n",
      "epoch: 0030, loss: 0.0155, loss_energy: 0.0155\n",
      "epoch: 0031, loss: 0.0128, loss_energy: 0.0128\n",
      "epoch: 0032, loss: 0.0095, loss_energy: 0.0095\n",
      "epoch: 0033, loss: 0.0059, loss_energy: 0.0059\n",
      "epoch: 0034, loss: 0.0032, loss_energy: 0.0032\n",
      "epoch: 0035, loss: 0.0014, loss_energy: 0.0014\n",
      "epoch: 0036, loss: 0.0003, loss_energy: 0.0003\n",
      "epoch: 0037, loss: 0.0000, loss_energy: 0.0000\n",
      "epoch: 0038, loss: 0.0003, loss_energy: 0.0003\n",
      "epoch: 0039, loss: 0.0009, loss_energy: 0.0009\n",
      "epoch: 0040, loss: 0.0018, loss_energy: 0.0018\n",
      "epoch: 0041, loss: 0.0029, loss_energy: 0.0029\n",
      "epoch: 0042, loss: 0.0040, loss_energy: 0.0040\n",
      "epoch: 0043, loss: 0.0048, loss_energy: 0.0048\n",
      "epoch: 0044, loss: 0.0054, loss_energy: 0.0054\n",
      "epoch: 0045, loss: 0.0050, loss_energy: 0.0050\n",
      "epoch: 0046, loss: 0.0044, loss_energy: 0.0044\n",
      "epoch: 0047, loss: 0.0037, loss_energy: 0.0037\n",
      "epoch: 0048, loss: 0.0030, loss_energy: 0.0030\n",
      "epoch: 0049, loss: 0.0023, loss_energy: 0.0023\n",
      "epoch: 0050, loss: 0.0017, loss_energy: 0.0017\n"
     ]
    }
   ],
   "source": [
    "if __name__ == '__main__':\n",
    "    #model = QubitControl(basis='Legendre', n_basis=5 , dt=0.22, duration=96, n_epoch=50, lr = 5e-3)\n",
    "    num_sample = 10\n",
    "    g = model.model_qubit(vv0, num_sample, 'plain')\n",
    "    loss1 = model.losses_energy"
   ]
  },
  {
   "cell_type": "code",
   "execution_count": 80,
   "id": "244f10a3",
   "metadata": {},
   "outputs": [
    {
     "data": {
      "image/png": "[encoded data removed]",
      "text/plain": [
       "<Figure size 432x288 with 1 Axes>"
      ]
     },
     "metadata": {
      "needs_background": "light"
     },
     "output_type": "display_data"
    }
   ],
   "source": [
    "plt.plot(loss0,'r-')\n",
    "plt.plot(loss1,'b-')\n",
    "plt.show()"
   ]
  }
 ],
 "metadata": {
  "kernelspec": {
   "display_name": "Python 3 (ipykernel)",
   "language": "python",
   "name": "python3"
  },
  "language_info": {
   "codemirror_mode": {
    "name": "ipython",
    "version": 3
   },
   "file_extension": ".py",
   "mimetype": "text/x-python",
   "name": "python",
   "nbconvert_exporter": "python",
   "pygments_lexer": "ipython3",
   "version": "3.8.12"
  }
 },
 "nbformat": 4,
 "nbformat_minor": 5
}
